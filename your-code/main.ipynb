{
 "cells": [
  {
   "cell_type": "markdown",
   "metadata": {},
   "source": [
    "# Mandatory Challenge\n",
    "## Context\n",
    "You work in the data analysis team of a very important company. On Monday, the company shares some good news with you: you just got hired by a major retail company! So, let's get prepared for a huge amount of work!\n",
    "\n",
    "Then you get to work with your team and define the following tasks to perform:   \n",
    "1. You need to start your analysis using data from the past.  \n",
    "2. You need to define a process that takes your daily data as an input and integrates it.  \n",
    "\n",
    "You are in charge of the second part, so you are provided with a sample file that you will have to read daily. To complete you task, you need the following aggregates:\n",
    "* One aggregate per store that adds up the rest of the values.\n",
    "* One aggregate per item that adds up the rest of the values.\n",
    "\n",
    "You can import the dataset `retail_sales` from Ironhack's database. \n",
    "\n",
    "## Your task\n",
    "Therefore, your process will consist of the following steps:\n",
    "1. Read the sample file that a daily process will save in your folder. \n",
    "2. Clean up the data.\n",
    "3. Create the aggregates.\n",
    "4. Write three tables in your local database: \n",
    "    - A table for the cleaned data.\n",
    "    - A table for the aggregate per store.\n",
    "    - A table for the aggregate per item.\n",
    "\n",
    "## Instructions\n",
    "* Read the csv you can find in Ironhack's database.\n",
    "* Clean the data and create the aggregates as you consider.\n",
    "* Create the tables in your local database.\n",
    "* Populate them with your process."
   ]
  },
  {
   "cell_type": "markdown",
   "metadata": {},
   "source": [
    "-----------------\n"
   ]
  },
  {
   "cell_type": "markdown",
   "metadata": {},
   "source": [
    "## Import needed library"
   ]
  },
  {
   "cell_type": "code",
   "execution_count": 2,
   "metadata": {},
   "outputs": [],
   "source": [
    "import numpy as np\n",
    "import pandas as pd\n",
    "from sqlalchemy import create_engine\n"
   ]
  },
  {
   "cell_type": "markdown",
   "metadata": {},
   "source": [
    "## Connect to sql and save in local as .csv file"
   ]
  },
  {
   "cell_type": "code",
   "execution_count": 2,
   "metadata": {},
   "outputs": [],
   "source": [
    "driver = \"mysql+pymysql\"\n",
    "user = \"ironhacker_read\"\n",
    "password = \"ir0nhack3r\"\n",
    "ip = \"35.239.232.23\"\n",
    "database = \"retail_sales\"\n",
    "\n",
    "connection_string = f\"{driver}://{user}:{password}@{ip}/{database}\"\n",
    "    \n",
    "engine = create_engine(connection_string)"
   ]
  },
  {
   "cell_type": "code",
   "execution_count": 3,
   "metadata": {},
   "outputs": [],
   "source": [
    "# There are total 4 files in sql db\n",
    "query = \"\"\"\n",
    "        SELECT * FROM raw_sales\n",
    "\"\"\"\n",
    "\n",
    "raw_sales = pd.read_sql(query, engine)\n",
    "raw_sales.to_csv(\"../raw_sales.csv\", sep = \",\")"
   ]
  },
  {
   "cell_type": "code",
   "execution_count": 4,
   "metadata": {},
   "outputs": [],
   "source": [
    "query = \"\"\"\n",
    "        SELECT * FROM sales_by_item_index\n",
    "\"\"\"\n",
    "sales_by_item_index = pd.read_sql(query, engine)\n",
    "sales_by_item_index.to_csv(\"../sales_by_item_index.csv\", sep = \",\")"
   ]
  },
  {
   "cell_type": "code",
   "execution_count": 5,
   "metadata": {},
   "outputs": [],
   "source": [
    "query = \"\"\"\n",
    "        SELECT * FROM sales_by_item\n",
    "\"\"\"\n",
    "sales_by_item = pd.read_sql(query, engine)\n",
    "sales_by_item.to_csv(\"../sales_by_item.csv\", sep = \",\")"
   ]
  },
  {
   "cell_type": "code",
   "execution_count": 6,
   "metadata": {},
   "outputs": [],
   "source": [
    "query = \"\"\"\n",
    "        SELECT * FROM sales_by_shop\n",
    "\"\"\"\n",
    "sales_by_shop = pd.read_sql(query, engine)\n",
    "sales_by_shop.to_csv(\"../sales_by_shop.csv\", sep = \",\")"
   ]
  },
  {
   "cell_type": "markdown",
   "metadata": {},
   "source": [
    "## Read the .csv files to jupyter"
   ]
  },
  {
   "cell_type": "code",
   "execution_count": 3,
   "metadata": {},
   "outputs": [],
   "source": [
    "# read all the data\n",
    "raw_sales = pd.read_csv(\"../raw_sales.csv\")\n",
    "sales_by_item = pd.read_csv(\"../sales_by_item.csv\")\n",
    "sales_by_item_index = pd.read_csv(\"../sales_by_item_index.csv\")\n",
    "sales_by_shop = pd.read_csv(\"../sales_by_shop.csv\")"
   ]
  },
  {
   "cell_type": "code",
   "execution_count": 4,
   "metadata": {},
   "outputs": [
    {
     "name": "stdout",
     "output_type": "stream",
     "text": [
      "<class 'pandas.core.frame.DataFrame'>\n",
      "RangeIndex: 4545 entries, 0 to 4544\n",
      "Data columns (total 6 columns):\n",
      "Unnamed: 0      4545 non-null int64\n",
      "date            4545 non-null object\n",
      "shop_id         4545 non-null int64\n",
      "item_id         4545 non-null int64\n",
      "item_price      4545 non-null float64\n",
      "item_cnt_day    4545 non-null float64\n",
      "dtypes: float64(2), int64(3), object(1)\n",
      "memory usage: 213.1+ KB\n"
     ]
    }
   ],
   "source": [
    "# check the data type\n",
    "raw_sales.info()"
   ]
  },
  {
   "cell_type": "code",
   "execution_count": 5,
   "metadata": {},
   "outputs": [
    {
     "data": {
      "text/html": [
       "<div>\n",
       "<style scoped>\n",
       "    .dataframe tbody tr th:only-of-type {\n",
       "        vertical-align: middle;\n",
       "    }\n",
       "\n",
       "    .dataframe tbody tr th {\n",
       "        vertical-align: top;\n",
       "    }\n",
       "\n",
       "    .dataframe thead th {\n",
       "        text-align: right;\n",
       "    }\n",
       "</style>\n",
       "<table border=\"1\" class=\"dataframe\">\n",
       "  <thead>\n",
       "    <tr style=\"text-align: right;\">\n",
       "      <th></th>\n",
       "      <th>date</th>\n",
       "      <th>shop_id</th>\n",
       "      <th>item_id</th>\n",
       "      <th>item_price</th>\n",
       "      <th>item_cnt_day</th>\n",
       "    </tr>\n",
       "  </thead>\n",
       "  <tbody>\n",
       "    <tr>\n",
       "      <th>0</th>\n",
       "      <td>2015-01-04</td>\n",
       "      <td>29</td>\n",
       "      <td>1469</td>\n",
       "      <td>1199.0</td>\n",
       "      <td>1.0</td>\n",
       "    </tr>\n",
       "    <tr>\n",
       "      <th>1</th>\n",
       "      <td>2015-01-04</td>\n",
       "      <td>28</td>\n",
       "      <td>21364</td>\n",
       "      <td>479.0</td>\n",
       "      <td>1.0</td>\n",
       "    </tr>\n",
       "    <tr>\n",
       "      <th>2</th>\n",
       "      <td>2015-01-04</td>\n",
       "      <td>28</td>\n",
       "      <td>21365</td>\n",
       "      <td>999.0</td>\n",
       "      <td>2.0</td>\n",
       "    </tr>\n",
       "    <tr>\n",
       "      <th>3</th>\n",
       "      <td>2015-01-04</td>\n",
       "      <td>28</td>\n",
       "      <td>22104</td>\n",
       "      <td>249.0</td>\n",
       "      <td>2.0</td>\n",
       "    </tr>\n",
       "    <tr>\n",
       "      <th>4</th>\n",
       "      <td>2015-01-04</td>\n",
       "      <td>28</td>\n",
       "      <td>22091</td>\n",
       "      <td>179.0</td>\n",
       "      <td>1.0</td>\n",
       "    </tr>\n",
       "  </tbody>\n",
       "</table>\n",
       "</div>"
      ],
      "text/plain": [
       "        date  shop_id  item_id  item_price  item_cnt_day\n",
       "0 2015-01-04       29     1469      1199.0           1.0\n",
       "1 2015-01-04       28    21364       479.0           1.0\n",
       "2 2015-01-04       28    21365       999.0           2.0\n",
       "3 2015-01-04       28    22104       249.0           2.0\n",
       "4 2015-01-04       28    22091       179.0           1.0"
      ]
     },
     "execution_count": 5,
     "metadata": {},
     "output_type": "execute_result"
    }
   ],
   "source": [
    "# change the date type\n",
    "raw_sales= raw_sales.drop([\"Unnamed: 0\"], axis = 1)\n",
    "raw_sales[\"date\"] = raw_sales[\"date\"].astype('datetime64[ns]')\n",
    "raw_sales.head()"
   ]
  },
  {
   "cell_type": "markdown",
   "metadata": {},
   "source": [
    "In the DB there are four tables, I am extracting data from the raw_sales and aggregating it based on the sales_by_shop and sales_by_item table design.\n",
    "\n",
    "I am not sure about the sales_by_item_index, therefore I didn't create function for this table. "
   ]
  },
  {
   "cell_type": "code",
   "execution_count": 6,
   "metadata": {},
   "outputs": [],
   "source": [
    "# define a function that extract the desired data from raw_sales table\n",
    "# In the sales_by_shop table, there are four columns, shop_id, shop_earnings, total_items_sold, date. \n",
    "# This function is to do the operation and select the desired columns and reorder the columns.\n",
    "def extract_sales_by_shop(raw_sales):\n",
    "    raw_sales[\"earnings\"] = raw_sales[\"item_price\"]*raw_sales[\"item_cnt_day\"]\n",
    "    aggregation = {\"earnings\": \"sum\", \n",
    "                   \"item_cnt_day\": \"sum\"}\n",
    "    raw_sales_agg_by_shop = raw_sales.groupby([\"date\", \"shop_id\"]).agg(aggregation)\n",
    "    raw_sales_agg_by_shop = raw_sales_agg_by_shop.reset_index()\n",
    "    raw_sales_agg_by_shop = raw_sales_agg_by_shop[[\"shop_id\", \"earnings\", \"item_cnt_day\", \"date\"]]\n",
    "    raw_sales_agg_by_shop = raw_sales_agg_by_shop.rename({\"earnings\":\"shop_earnings\",\"item_cnt_day\": \"total_items_sold\"}, axis = 1)\n",
    "    return raw_sales_agg_by_shop"
   ]
  },
  {
   "cell_type": "code",
   "execution_count": 8,
   "metadata": {},
   "outputs": [
    {
     "data": {
      "text/html": [
       "<div>\n",
       "<style scoped>\n",
       "    .dataframe tbody tr th:only-of-type {\n",
       "        vertical-align: middle;\n",
       "    }\n",
       "\n",
       "    .dataframe tbody tr th {\n",
       "        vertical-align: top;\n",
       "    }\n",
       "\n",
       "    .dataframe thead th {\n",
       "        text-align: right;\n",
       "    }\n",
       "</style>\n",
       "<table border=\"1\" class=\"dataframe\">\n",
       "  <thead>\n",
       "    <tr style=\"text-align: right;\">\n",
       "      <th></th>\n",
       "      <th>shop_id</th>\n",
       "      <th>shop_earnings</th>\n",
       "      <th>total_items_sold</th>\n",
       "      <th>date</th>\n",
       "    </tr>\n",
       "  </thead>\n",
       "  <tbody>\n",
       "    <tr>\n",
       "      <th>0</th>\n",
       "      <td>2</td>\n",
       "      <td>103746.0</td>\n",
       "      <td>81.0</td>\n",
       "      <td>2015-01-04</td>\n",
       "    </tr>\n",
       "    <tr>\n",
       "      <th>1</th>\n",
       "      <td>3</td>\n",
       "      <td>67443.0</td>\n",
       "      <td>33.0</td>\n",
       "      <td>2015-01-04</td>\n",
       "    </tr>\n",
       "    <tr>\n",
       "      <th>2</th>\n",
       "      <td>4</td>\n",
       "      <td>29361.0</td>\n",
       "      <td>39.0</td>\n",
       "      <td>2015-01-04</td>\n",
       "    </tr>\n",
       "    <tr>\n",
       "      <th>3</th>\n",
       "      <td>5</td>\n",
       "      <td>33138.0</td>\n",
       "      <td>45.0</td>\n",
       "      <td>2015-01-04</td>\n",
       "    </tr>\n",
       "    <tr>\n",
       "      <th>4</th>\n",
       "      <td>6</td>\n",
       "      <td>138678.0</td>\n",
       "      <td>150.0</td>\n",
       "      <td>2015-01-04</td>\n",
       "    </tr>\n",
       "  </tbody>\n",
       "</table>\n",
       "</div>"
      ],
      "text/plain": [
       "   shop_id  shop_earnings  total_items_sold       date\n",
       "0        2       103746.0              81.0 2015-01-04\n",
       "1        3        67443.0              33.0 2015-01-04\n",
       "2        4        29361.0              39.0 2015-01-04\n",
       "3        5        33138.0              45.0 2015-01-04\n",
       "4        6       138678.0             150.0 2015-01-04"
      ]
     },
     "execution_count": 8,
     "metadata": {},
     "output_type": "execute_result"
    }
   ],
   "source": [
    "sales_by_shop = extract_sales_by_shop(raw_sales)\n",
    "sales_by_shop.head()"
   ]
  },
  {
   "cell_type": "markdown",
   "metadata": {},
   "source": [
    "Now do the same thing to extract the sales_by_item "
   ]
  },
  {
   "cell_type": "code",
   "execution_count": 10,
   "metadata": {},
   "outputs": [],
   "source": [
    "def extract_sales_by_item(raw_sales):\n",
    "    raw_sales[\"earnings\"] = raw_sales[\"item_price\"]*raw_sales[\"item_cnt_day\"]\n",
    "    aggregation = {\"earnings\": \"sum\", \n",
    "                   \"item_cnt_day\": \"sum\"}\n",
    "    raw_sales_agg_by_item = raw_sales.groupby([\"date\", \"item_id\"]).agg(aggregation)\n",
    "    raw_sales_agg_by_item = raw_sales_agg_by_item.reset_index()\n",
    "    raw_sales_agg_by_item = raw_sales_agg_by_item[[\"item_id\", \"earnings\", \"item_cnt_day\", \"date\"]]\n",
    "    raw_sales_agg_by_item = raw_sales_agg_by_item.rename({\"earnings\":\"item_earnings\",\"item_cnt_day\": \"total_items_sold\"}, axis = 1)\n",
    "    return raw_sales_agg_by_item"
   ]
  },
  {
   "cell_type": "code",
   "execution_count": 11,
   "metadata": {},
   "outputs": [
    {
     "data": {
      "text/html": [
       "<div>\n",
       "<style scoped>\n",
       "    .dataframe tbody tr th:only-of-type {\n",
       "        vertical-align: middle;\n",
       "    }\n",
       "\n",
       "    .dataframe tbody tr th {\n",
       "        vertical-align: top;\n",
       "    }\n",
       "\n",
       "    .dataframe thead th {\n",
       "        text-align: right;\n",
       "    }\n",
       "</style>\n",
       "<table border=\"1\" class=\"dataframe\">\n",
       "  <thead>\n",
       "    <tr style=\"text-align: right;\">\n",
       "      <th></th>\n",
       "      <th>item_id</th>\n",
       "      <th>item_earnings</th>\n",
       "      <th>total_items_sold</th>\n",
       "      <th>date</th>\n",
       "    </tr>\n",
       "  </thead>\n",
       "  <tbody>\n",
       "    <tr>\n",
       "      <th>0</th>\n",
       "      <td>30</td>\n",
       "      <td>507.0</td>\n",
       "      <td>3.0</td>\n",
       "      <td>2015-01-04</td>\n",
       "    </tr>\n",
       "    <tr>\n",
       "      <th>1</th>\n",
       "      <td>31</td>\n",
       "      <td>1089.0</td>\n",
       "      <td>3.0</td>\n",
       "      <td>2015-01-04</td>\n",
       "    </tr>\n",
       "    <tr>\n",
       "      <th>2</th>\n",
       "      <td>32</td>\n",
       "      <td>447.0</td>\n",
       "      <td>3.0</td>\n",
       "      <td>2015-01-04</td>\n",
       "    </tr>\n",
       "    <tr>\n",
       "      <th>3</th>\n",
       "      <td>42</td>\n",
       "      <td>897.0</td>\n",
       "      <td>3.0</td>\n",
       "      <td>2015-01-04</td>\n",
       "    </tr>\n",
       "    <tr>\n",
       "      <th>4</th>\n",
       "      <td>59</td>\n",
       "      <td>747.0</td>\n",
       "      <td>3.0</td>\n",
       "      <td>2015-01-04</td>\n",
       "    </tr>\n",
       "  </tbody>\n",
       "</table>\n",
       "</div>"
      ],
      "text/plain": [
       "   item_id  item_earnings  total_items_sold       date\n",
       "0       30          507.0               3.0 2015-01-04\n",
       "1       31         1089.0               3.0 2015-01-04\n",
       "2       32          447.0               3.0 2015-01-04\n",
       "3       42          897.0               3.0 2015-01-04\n",
       "4       59          747.0               3.0 2015-01-04"
      ]
     },
     "execution_count": 11,
     "metadata": {},
     "output_type": "execute_result"
    }
   ],
   "source": [
    "sales_by_item = extract_sales_by_item(raw_sales)\n",
    "sales_by_item.head()"
   ]
  },
  {
   "cell_type": "markdown",
   "metadata": {},
   "source": [
    "## Create the connection that will append the extract result to DB"
   ]
  },
  {
   "cell_type": "code",
   "execution_count": null,
   "metadata": {},
   "outputs": [],
   "source": [
    "driver = 'mysql+pymysql'\n",
    "user = 'root'\n",
    "password = '********'\n",
    "ip = 'localhost'\n",
    "database = 'lab_df_cal_tran'"
   ]
  },
  {
   "cell_type": "code",
   "execution_count": null,
   "metadata": {},
   "outputs": [],
   "source": [
    "connection_string = f'{driver}://{user}:{password}@{ip}/{database}'"
   ]
  },
  {
   "cell_type": "code",
   "execution_count": null,
   "metadata": {},
   "outputs": [],
   "source": [
    "engine = create_engine(connection_string)"
   ]
  },
  {
   "cell_type": "code",
   "execution_count": null,
   "metadata": {},
   "outputs": [],
   "source": [
    "sales_by_shop.to_sql('sales_by_shop', engine)\n",
    "sales_by_item.to_sql('sales_by_item', engine)\n"
   ]
  },
  {
   "cell_type": "code",
   "execution_count": null,
   "metadata": {},
   "outputs": [],
   "source": []
  }
 ],
 "metadata": {
  "kernelspec": {
   "display_name": "Python 3",
   "language": "python",
   "name": "python3"
  },
  "language_info": {
   "codemirror_mode": {
    "name": "ipython",
    "version": 3
   },
   "file_extension": ".py",
   "mimetype": "text/x-python",
   "name": "python",
   "nbconvert_exporter": "python",
   "pygments_lexer": "ipython3",
   "version": "3.6.7"
  }
 },
 "nbformat": 4,
 "nbformat_minor": 2
}
