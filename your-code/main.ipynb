{
 "cells": [
  {
   "cell_type": "markdown",
   "metadata": {},
   "source": [
    "# Mandatory Challenge\n",
    "## Context\n",
    "You work in the data analysis team of a very important company. On Monday, the company shares some good news with you: you just got hired by a major retail company! So, let's get prepared for a huge amount of work!\n",
    "\n",
    "Then you get to work with your team and define the following tasks to perform:   \n",
    "1. You need to start your analysis using data from the past.  \n",
    "2. You need to define a process that takes your daily data as an input and integrates it.  \n",
    "\n",
    "You are in charge of the second part, so you are provided with a sample file that you will have to read daily. To complete you task, you need the following aggregates:\n",
    "* One aggregate per store that adds up the rest of the values.\n",
    "* One aggregate per item that adds up the rest of the values.\n",
    "\n",
    "You can import the dataset `retail_sales` from Ironhack's database. \n",
    "\n",
    "## Your task\n",
    "Therefore, your process will consist of the following steps:\n",
    "1. Read the sample file that a daily process will save in your folder. \n",
    "2. Clean up the data.\n",
    "3. Create the aggregates.\n",
    "4. Write three tables in your local database: \n",
    "    - A table for the cleaned data.\n",
    "    - A table for the aggregate per store.\n",
    "    - A table for the aggregate per item.\n",
    "\n",
    "## Instructions\n",
    "* Read the csv you can find in Ironhack's database.\n",
    "* Clean the data and create the aggregates as you consider.\n",
    "* Create the tables in your local database.\n",
    "* Populate them with your process."
   ]
  },
  {
   "cell_type": "code",
   "execution_count": 102,
   "metadata": {},
   "outputs": [],
   "source": [
    "# First step: import \n",
    "import sqlalchemy\n",
    "import pymysql\n",
    "from sqlalchemy import create_engine\n",
    "import pandas as pd\n"
   ]
  },
  {
   "cell_type": "code",
   "execution_count": 103,
   "metadata": {},
   "outputs": [],
   "source": [
    "# Creating the connection to the database:\n",
    "driver = 'mysql+pymysql'\n",
    "ip = '34.65.10.136'\n",
    "username = 'data-students'\n",
    "password = 'iR0nH@cK-D4T4B4S3'\n",
    "db = 'retail_sales'\n",
    "connection_string  = f'{driver}://{username}:{password}@{ip}/{db}'"
   ]
  },
  {
   "cell_type": "code",
   "execution_count": 104,
   "metadata": {},
   "outputs": [
    {
     "data": {
      "text/html": "<div>\n<style scoped>\n    .dataframe tbody tr th:only-of-type {\n        vertical-align: middle;\n    }\n\n    .dataframe tbody tr th {\n        vertical-align: top;\n    }\n\n    .dataframe thead th {\n        text-align: right;\n    }\n</style>\n<table border=\"1\" class=\"dataframe\">\n  <thead>\n    <tr style=\"text-align: right;\">\n      <th></th>\n      <th>date</th>\n      <th>shop_id</th>\n      <th>item_id</th>\n      <th>item_price</th>\n      <th>item_cnt_day</th>\n    </tr>\n  </thead>\n  <tbody>\n    <tr>\n      <th>0</th>\n      <td>2015-01-04</td>\n      <td>29</td>\n      <td>1469</td>\n      <td>1199.0</td>\n      <td>1.0</td>\n    </tr>\n    <tr>\n      <th>1</th>\n      <td>2015-01-04</td>\n      <td>28</td>\n      <td>21364</td>\n      <td>479.0</td>\n      <td>1.0</td>\n    </tr>\n    <tr>\n      <th>2</th>\n      <td>2015-01-04</td>\n      <td>28</td>\n      <td>21365</td>\n      <td>999.0</td>\n      <td>2.0</td>\n    </tr>\n    <tr>\n      <th>3</th>\n      <td>2015-01-04</td>\n      <td>28</td>\n      <td>22104</td>\n      <td>249.0</td>\n      <td>2.0</td>\n    </tr>\n    <tr>\n      <th>4</th>\n      <td>2015-01-04</td>\n      <td>28</td>\n      <td>22091</td>\n      <td>179.0</td>\n      <td>1.0</td>\n    </tr>\n    <tr>\n      <th>...</th>\n      <td>...</td>\n      <td>...</td>\n      <td>...</td>\n      <td>...</td>\n      <td>...</td>\n    </tr>\n    <tr>\n      <th>4540</th>\n      <td>2015-01-04</td>\n      <td>15</td>\n      <td>4240</td>\n      <td>1299.0</td>\n      <td>1.0</td>\n    </tr>\n    <tr>\n      <th>4541</th>\n      <td>2015-01-04</td>\n      <td>14</td>\n      <td>21922</td>\n      <td>99.0</td>\n      <td>1.0</td>\n    </tr>\n    <tr>\n      <th>4542</th>\n      <td>2015-01-04</td>\n      <td>15</td>\n      <td>1969</td>\n      <td>3999.0</td>\n      <td>1.0</td>\n    </tr>\n    <tr>\n      <th>4543</th>\n      <td>2015-01-04</td>\n      <td>14</td>\n      <td>22091</td>\n      <td>179.0</td>\n      <td>1.0</td>\n    </tr>\n    <tr>\n      <th>4544</th>\n      <td>2015-01-04</td>\n      <td>15</td>\n      <td>1007</td>\n      <td>1199.0</td>\n      <td>1.0</td>\n    </tr>\n  </tbody>\n</table>\n<p>4545 rows × 5 columns</p>\n</div>",
      "text/plain": "           date  shop_id  item_id  item_price  item_cnt_day\n0    2015-01-04       29     1469      1199.0           1.0\n1    2015-01-04       28    21364       479.0           1.0\n2    2015-01-04       28    21365       999.0           2.0\n3    2015-01-04       28    22104       249.0           2.0\n4    2015-01-04       28    22091       179.0           1.0\n...         ...      ...      ...         ...           ...\n4540 2015-01-04       15     4240      1299.0           1.0\n4541 2015-01-04       14    21922        99.0           1.0\n4542 2015-01-04       15     1969      3999.0           1.0\n4543 2015-01-04       14    22091       179.0           1.0\n4544 2015-01-04       15     1007      1199.0           1.0\n\n[4545 rows x 5 columns]"
     },
     "execution_count": 104,
     "metadata": {},
     "output_type": "execute_result"
    }
   ],
   "source": [
    "# getting all the data from the table. For this excercise I just call the complete table, but if I had to do it daily, we will write the query to get just the new values generated the day before. \n",
    "engine = create_engine(connection_string)\n",
    "query = 'SELECT * FROM raw_sales'\n",
    "raw_sales = pd.read_sql(query,engine)\n",
    "raw_sales"
   ]
  },
  {
   "cell_type": "code",
   "execution_count": 105,
   "metadata": {},
   "outputs": [
    {
     "data": {
      "text/plain": "date            datetime64[ns]\nshop_id                  int64\nitem_id                  int64\nitem_price             float64\nitem_cnt_day           float64\ndtype: object"
     },
     "execution_count": 105,
     "metadata": {},
     "output_type": "execute_result"
    }
   ],
   "source": [
    "# CLEANING THE DATA.\n",
    "\n",
    "# Check the types of data\n",
    "raw_sales.dtypes\n"
   ]
  },
  {
   "cell_type": "code",
   "execution_count": 106,
   "metadata": {},
   "outputs": [
    {
     "data": {
      "text/plain": "date            datetime64[ns]\nshop_id                  int64\nitem_id                  int64\nitem_price             float64\nitem_cnt_day             int64\ndtype: object"
     },
     "execution_count": 106,
     "metadata": {},
     "output_type": "execute_result"
    }
   ],
   "source": [
    "# We can see that the column 'item_cnt_day' is a float, but we are counting items, so it is not necessary to be a float, we can convert it to an integer. \n",
    "\n",
    "raw_sales.astype({'item_cnt_day':'int64'}).dtypes"
   ]
  },
  {
   "cell_type": "code",
   "execution_count": 107,
   "metadata": {},
   "outputs": [],
   "source": [
    "# also, the name of this column is not clear, as it seems to be a counting for items per day, but in fact is is a counting for items per day per store. So I will change the name of the column to 'units'\n",
    "raw_sales.rename(columns = {'item_cnt_day':'units'}, inplace = True)"
   ]
  },
  {
   "cell_type": "code",
   "execution_count": 108,
   "metadata": {},
   "outputs": [
    {
     "data": {
      "text/plain": "date          0\nshop_id       0\nitem_id       0\nitem_price    0\nunits         0\ndtype: int64"
     },
     "execution_count": 108,
     "metadata": {},
     "output_type": "execute_result"
    }
   ],
   "source": [
    "# Check if there is any null\n",
    "raw_sales.isnull().sum()"
   ]
  },
  {
   "cell_type": "code",
   "execution_count": 109,
   "metadata": {},
   "outputs": [],
   "source": [
    "# in this case, there is no null. If we got one null, as we wouldn't know the real value of it, we will drop the row. We can use the built-in function 'dropna', which automaticaly drops any row with a NaN value.\n",
    "\n",
    "# I saved into a new dataframe, as this new one will be the 'cleaned table' to upload to the DB. \n",
    "cleaned_sales = raw_sales.dropna()\n"
   ]
  },
  {
   "cell_type": "code",
   "execution_count": 110,
   "metadata": {},
   "outputs": [],
   "source": [
    "# I upload this cleaned table to a csv file separated by tab.\n",
    "# cleaned_sales.to_csv('./localdatabase/cleaned_sales.csv', sep='\\t', index = False)"
   ]
  },
  {
   "cell_type": "code",
   "execution_count": 111,
   "metadata": {},
   "outputs": [],
   "source": [
    "# AGGREGATE PER STORE"
   ]
  },
  {
   "cell_type": "code",
   "execution_count": 112,
   "metadata": {},
   "outputs": [],
   "source": [
    "# First I will create a new column with the revenue per sale, so I will multiply columns 'item_price' by 'units'\n",
    "cleaned_sales['revenue'] = cleaned_sales['item_price']*cleaned_sales['units']"
   ]
  },
  {
   "cell_type": "code",
   "execution_count": 113,
   "metadata": {},
   "outputs": [
    {
     "data": {
      "text/html": "<div>\n<style scoped>\n    .dataframe tbody tr th:only-of-type {\n        vertical-align: middle;\n    }\n\n    .dataframe tbody tr th {\n        vertical-align: top;\n    }\n\n    .dataframe thead th {\n        text-align: right;\n    }\n</style>\n<table border=\"1\" class=\"dataframe\">\n  <thead>\n    <tr style=\"text-align: right;\">\n      <th></th>\n      <th>date</th>\n      <th>shop_id</th>\n      <th>item_id</th>\n      <th>item_price</th>\n      <th>units</th>\n      <th>revenue</th>\n    </tr>\n  </thead>\n  <tbody>\n    <tr>\n      <th>0</th>\n      <td>2015-01-04</td>\n      <td>29</td>\n      <td>1469</td>\n      <td>1199.0</td>\n      <td>1.0</td>\n      <td>1199.0</td>\n    </tr>\n    <tr>\n      <th>1</th>\n      <td>2015-01-04</td>\n      <td>28</td>\n      <td>21364</td>\n      <td>479.0</td>\n      <td>1.0</td>\n      <td>479.0</td>\n    </tr>\n    <tr>\n      <th>2</th>\n      <td>2015-01-04</td>\n      <td>28</td>\n      <td>21365</td>\n      <td>999.0</td>\n      <td>2.0</td>\n      <td>1998.0</td>\n    </tr>\n    <tr>\n      <th>3</th>\n      <td>2015-01-04</td>\n      <td>28</td>\n      <td>22104</td>\n      <td>249.0</td>\n      <td>2.0</td>\n      <td>498.0</td>\n    </tr>\n    <tr>\n      <th>4</th>\n      <td>2015-01-04</td>\n      <td>28</td>\n      <td>22091</td>\n      <td>179.0</td>\n      <td>1.0</td>\n      <td>179.0</td>\n    </tr>\n  </tbody>\n</table>\n</div>",
      "text/plain": "        date  shop_id  item_id  item_price  units  revenue\n0 2015-01-04       29     1469      1199.0    1.0   1199.0\n1 2015-01-04       28    21364       479.0    1.0    479.0\n2 2015-01-04       28    21365       999.0    2.0   1998.0\n3 2015-01-04       28    22104       249.0    2.0    498.0\n4 2015-01-04       28    22091       179.0    1.0    179.0"
     },
     "execution_count": 113,
     "metadata": {},
     "output_type": "execute_result"
    }
   ],
   "source": [
    "cleaned_sales.head()"
   ]
  },
  {
   "cell_type": "code",
   "execution_count": 125,
   "metadata": {},
   "outputs": [],
   "source": [
    "# This new table is the one we want, but we just need the 'revenue' column. I will keep the number of units because it's a useful information, but will drop others where the sum does not give any useful information.\n",
    "sales_by_shop = cleaned_sales.groupby('shop_id').sum().drop(['item_id', 'item_price'], axis = 1)"
   ]
  },
  {
   "cell_type": "code",
   "execution_count": 126,
   "metadata": {},
   "outputs": [
    {
     "data": {
      "text/html": "<div>\n<style scoped>\n    .dataframe tbody tr th:only-of-type {\n        vertical-align: middle;\n    }\n\n    .dataframe tbody tr th {\n        vertical-align: top;\n    }\n\n    .dataframe thead th {\n        text-align: right;\n    }\n</style>\n<table border=\"1\" class=\"dataframe\">\n  <thead>\n    <tr style=\"text-align: right;\">\n      <th></th>\n      <th>units</th>\n      <th>revenue</th>\n    </tr>\n    <tr>\n      <th>shop_id</th>\n      <th></th>\n      <th></th>\n    </tr>\n  </thead>\n  <tbody>\n    <tr>\n      <th>2</th>\n      <td>81.0</td>\n      <td>103746.0</td>\n    </tr>\n    <tr>\n      <th>3</th>\n      <td>33.0</td>\n      <td>67443.0</td>\n    </tr>\n    <tr>\n      <th>4</th>\n      <td>39.0</td>\n      <td>29361.0</td>\n    </tr>\n    <tr>\n      <th>5</th>\n      <td>45.0</td>\n      <td>33138.0</td>\n    </tr>\n    <tr>\n      <th>6</th>\n      <td>150.0</td>\n      <td>138678.0</td>\n    </tr>\n  </tbody>\n</table>\n</div>",
      "text/plain": "         units   revenue\nshop_id                 \n2         81.0  103746.0\n3         33.0   67443.0\n4         39.0   29361.0\n5         45.0   33138.0\n6        150.0  138678.0"
     },
     "execution_count": 126,
     "metadata": {},
     "output_type": "execute_result"
    }
   ],
   "source": [
    "sales_by_shop.head()"
   ]
  },
  {
   "cell_type": "code",
   "execution_count": 130,
   "metadata": {},
   "outputs": [],
   "source": [
    "# the units columns has a float number, but we just need an integer, so I will change its datatype.\n",
    "sales_by_shop['units'] = sales_by_shop['units'].astype('int64')"
   ]
  },
  {
   "cell_type": "code",
   "execution_count": 131,
   "metadata": {},
   "outputs": [
    {
     "data": {
      "text/html": "<div>\n<style scoped>\n    .dataframe tbody tr th:only-of-type {\n        vertical-align: middle;\n    }\n\n    .dataframe tbody tr th {\n        vertical-align: top;\n    }\n\n    .dataframe thead th {\n        text-align: right;\n    }\n</style>\n<table border=\"1\" class=\"dataframe\">\n  <thead>\n    <tr style=\"text-align: right;\">\n      <th></th>\n      <th>units</th>\n      <th>revenue</th>\n    </tr>\n    <tr>\n      <th>shop_id</th>\n      <th></th>\n      <th></th>\n    </tr>\n  </thead>\n  <tbody>\n    <tr>\n      <th>2</th>\n      <td>81</td>\n      <td>103746.0</td>\n    </tr>\n    <tr>\n      <th>3</th>\n      <td>33</td>\n      <td>67443.0</td>\n    </tr>\n    <tr>\n      <th>4</th>\n      <td>39</td>\n      <td>29361.0</td>\n    </tr>\n    <tr>\n      <th>5</th>\n      <td>45</td>\n      <td>33138.0</td>\n    </tr>\n    <tr>\n      <th>6</th>\n      <td>150</td>\n      <td>138678.0</td>\n    </tr>\n  </tbody>\n</table>\n</div>",
      "text/plain": "         units   revenue\nshop_id                 \n2           81  103746.0\n3           33   67443.0\n4           39   29361.0\n5           45   33138.0\n6          150  138678.0"
     },
     "execution_count": 131,
     "metadata": {},
     "output_type": "execute_result"
    }
   ],
   "source": [
    "sales_by_shop.head()"
   ]
  },
  {
   "cell_type": "code",
   "execution_count": 122,
   "metadata": {},
   "outputs": [
    {
     "data": {
      "text/plain": "dtype('int64')"
     },
     "execution_count": 122,
     "metadata": {},
     "output_type": "execute_result"
    }
   ],
   "source": [
    "# Now I have the dataframe ready, I upload it to a csv file separated by tab.\n",
    "# sales_by_shop.to_csv('./localdatabase/sales_by_shop.csv', sep='\\t', index = False)\n"
   ]
  },
  {
   "cell_type": "code",
   "execution_count": null,
   "metadata": {},
   "outputs": [],
   "source": []
  }
 ],
 "metadata": {
  "kernelspec": {
   "display_name": "ironhack-3.7",
   "language": "python",
   "name": "ironhack-3.7"
  }
 },
 "nbformat": 4,
 "nbformat_minor": 2
}